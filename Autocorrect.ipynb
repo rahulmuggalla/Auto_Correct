{
  "nbformat": 4,
  "nbformat_minor": 0,
  "metadata": {
    "colab": {
      "name": "Autocorrect.ipynb",
      "provenance": []
    },
    "kernelspec": {
      "name": "python3",
      "display_name": "Python 3"
    },
    "language_info": {
      "name": "python"
    }
  },
  "cells": [
    {
      "cell_type": "markdown",
      "source": [
        "# Autocorrect"
      ],
      "metadata": {
        "id": "I2VfNiwWClaC"
      }
    },
    {
      "cell_type": "markdown",
      "source": [
        "Have you ever thought about how the autocorrect features works in the keyboard of a smartphone? Almost every smartphone brand irrespective of its price provides an autocorrect feature in their keyboards today. So let’s understand how the autocorrect features works.I will take you through how to build autocorrect with Python.With the context of machine learning, autocorrect is based on natural language processing. As the name suggests it is programmed to correct spellings and errors while typing. So how it works?\n",
        "\n",
        "Before I get into the coding stuff let’s understand how autocorrect works. Let’s say you typed a word in your keyboard if the word will exist in the vocabulary of our smartphone then it will assume that you have written the right word. Now it doesn’t matter whether you write a name, a noun or any word on the planet.\n",
        "\n",
        "If the word exists in the history of the smartphone, it will generalize the word as a correct word. What if the word doesn’t exist? If the word that you typed is a non-existing word in the history of our smartphone then the autocorrect is programmed to find the most similar words in the history of our smartphone.\n",
        "\n",
        "I hope you now know what autocorrect is and how it works. Now let’s see how we can build an autocorrect feature with Python. Like our smartphone uses history to match the type words whether it’s correct or not. So here we also need to use some words to put the functionality in our autocorrect.\n",
        "\n",
        "So I will use the text from a book which you can easily download from here. Now let’s get started with the task to build an autocorrect with Python.\n",
        "\n",
        "For this task, we need some libraries. The libraries that I am going to use are very general as a machine learning practitioner. So you must be having all the libraries installed in your system already except one. You need to install a library known as textdistance, which can be easily installed by using the pip command; pip install textdistance."
      ],
      "metadata": {
        "id": "_B3irKw8Cny6"
      }
    },
    {
      "cell_type": "markdown",
      "source": [
        "Dataset :- https://github.com/rahulmuggalla/Auto_Correct/blob/main/book.txt"
      ],
      "metadata": {
        "id": "rsZNykxGC8P6"
      }
    },
    {
      "cell_type": "code",
      "execution_count": 2,
      "metadata": {
        "colab": {
          "base_uri": "https://localhost:8080/"
        },
        "id": "wXPJjpiu7Bba",
        "outputId": "6a020a10-6751-42d7-b110-02dd4511f2d8"
      },
      "outputs": [
        {
          "output_type": "stream",
          "name": "stdout",
          "text": [
            "Looking in indexes: https://pypi.org/simple, https://us-python.pkg.dev/colab-wheels/public/simple/\n",
            "Collecting textdistance\n",
            "  Downloading textdistance-4.3.0-py3-none-any.whl (29 kB)\n",
            "Installing collected packages: textdistance\n",
            "Successfully installed textdistance-4.3.0\n"
          ]
        }
      ],
      "source": [
        "#importing libraries\n",
        "import numpy as np #2 perform mathematical operations on arrays\n",
        "import pandas as pd #for data analysis\n",
        "#pip install textdistance\n",
        "import textdistance #Compute distance between sequences.\n",
        "import re #provides regular expression matching operations similar to those found in Perl\n",
        "\n",
        "from collections import Counter #Dict subclass for counting hashable items. Sometimes called a bag or multiset."
      ]
    },
    {
      "cell_type": "code",
      "source": [
        "words = []\n",
        "with open('book.txt', 'r') as f:\n",
        "    file_name_data = f.read()\n",
        "    file_name_data = file_name_data.lower()\n",
        "    words = re.findall('\\w+',file_name_data)"
      ],
      "metadata": {
        "id": "ip3fWIRP7J-S"
      },
      "execution_count": 4,
      "outputs": []
    },
    {
      "cell_type": "code",
      "source": [
        "# This is our vocabulary\n",
        "V = set(words)\n",
        "print(f\"The first ten words in the text are: \\n{words[0:10]}\")\n",
        "print(f\"There are {len(V)} unique words in the vocabulary.\")"
      ],
      "metadata": {
        "colab": {
          "base_uri": "https://localhost:8080/"
        },
        "id": "SJ_5hdQC8OuS",
        "outputId": "4438a114-3796-4301-bb5d-357973f61a5a"
      },
      "execution_count": 5,
      "outputs": [
        {
          "output_type": "stream",
          "name": "stdout",
          "text": [
            "The first ten words in the text are: \n",
            "['the', 'project', 'gutenberg', 'ebook', 'of', 'moby', 'dick', 'or', 'the', 'whale']\n",
            "There are 17647 unique words in the vocabulary.\n"
          ]
        }
      ]
    },
    {
      "cell_type": "code",
      "source": [
        "#In the above code, we made a list of words, and now we need to build the frequency of those words, \n",
        "#which can be easily done by using the counter function in Python:\n",
        "word_freq_dict = {}  \n",
        "word_freq_dict = Counter(words)\n",
        "print(word_freq_dict.most_common()[0:10])"
      ],
      "metadata": {
        "colab": {
          "base_uri": "https://localhost:8080/"
        },
        "id": "SdRtTajZ8UYR",
        "outputId": "0eece57b-1d95-4f9a-9efc-f3b247e56920"
      },
      "execution_count": 6,
      "outputs": [
        {
          "output_type": "stream",
          "name": "stdout",
          "text": [
            "[('the', 14703), ('of', 6742), ('and', 6517), ('a', 4799), ('to', 4707), ('in', 4238), ('that', 3081), ('it', 2534), ('his', 2530), ('i', 2120)]\n"
          ]
        }
      ]
    },
    {
      "cell_type": "markdown",
      "source": [
        "## Relative Frequency of words"
      ],
      "metadata": {
        "id": "shfXOrgcDROi"
      }
    },
    {
      "cell_type": "code",
      "source": [
        "#Now we want to get the probability of occurrence of each word, this equals the relative frequencies of the words:\n",
        "probs = {}     \n",
        "Total = sum(word_freq_dict.values())    \n",
        "for k in word_freq_dict.keys():\n",
        "    probs[k] = word_freq_dict[k] / Total"
      ],
      "metadata": {
        "id": "3wLRXrXO8Zxk"
      },
      "execution_count": 7,
      "outputs": []
    },
    {
      "cell_type": "markdown",
      "source": [
        "## Finding Similar Words"
      ],
      "metadata": {
        "id": "DLZP9n1bDTma"
      }
    },
    {
      "cell_type": "code",
      "source": [
        "#Now we will sort similar words according to the Jaccard distance by calculating the 2 grams Q of the words. \n",
        "#Next, we will return the 5 most similar words ordered by similarity and probability:\n",
        "def my_autocorrect(input_word):\n",
        "    input_word = input_word.lower()\n",
        "\n",
        "    if input_word in V:\n",
        "        return('Your word seems to be correct')\n",
        "\n",
        "    else:\n",
        "        similarities = [1-(textdistance.Jaccard(qval=2).distance(v,input_word)) for v in word_freq_dict.keys()]\n",
        "        df = pd.DataFrame.from_dict(probs, orient='index').reset_index()\n",
        "        df = df.rename(columns={'index':'Word', 0:'Prob'})\n",
        "        df['Similarity'] = similarities\n",
        "        \n",
        "        output = df.sort_values(['Similarity', 'Prob'], ascending=False).head()\n",
        "        return(output)"
      ],
      "metadata": {
        "id": "DKfmen9N8c0x"
      },
      "execution_count": 10,
      "outputs": []
    },
    {
      "cell_type": "code",
      "source": [
        "#Now, let’s find the similar words by using our autocorrect function:\n",
        "word = input(\"Enter word : \")\n",
        "my_autocorrect(word)"
      ],
      "metadata": {
        "colab": {
          "base_uri": "https://localhost:8080/",
          "height": 224
        },
        "id": "j_Gm4rzv8giy",
        "outputId": "39b69aff-e6d9-4d70-9080-6d8d3eb6de1a"
      },
      "execution_count": 16,
      "outputs": [
        {
          "name": "stdout",
          "output_type": "stream",
          "text": [
            "Enter word : learing\n"
          ]
        },
        {
          "output_type": "execute_result",
          "data": {
            "text/plain": [
              "            Word      Prob  Similarity\n",
              "333     clearing  0.000027    0.857143\n",
              "12403  clearings  0.000004    0.750000\n",
              "5064     bearing  0.000112    0.714286\n",
              "2498     hearing  0.000058    0.714286\n",
              "4862     rearing  0.000022    0.714286"
            ],
            "text/html": [
              "\n",
              "  <div id=\"df-a06c94e9-46eb-4d79-bd9c-2875a60d7d99\">\n",
              "    <div class=\"colab-df-container\">\n",
              "      <div>\n",
              "<style scoped>\n",
              "    .dataframe tbody tr th:only-of-type {\n",
              "        vertical-align: middle;\n",
              "    }\n",
              "\n",
              "    .dataframe tbody tr th {\n",
              "        vertical-align: top;\n",
              "    }\n",
              "\n",
              "    .dataframe thead th {\n",
              "        text-align: right;\n",
              "    }\n",
              "</style>\n",
              "<table border=\"1\" class=\"dataframe\">\n",
              "  <thead>\n",
              "    <tr style=\"text-align: right;\">\n",
              "      <th></th>\n",
              "      <th>Word</th>\n",
              "      <th>Prob</th>\n",
              "      <th>Similarity</th>\n",
              "    </tr>\n",
              "  </thead>\n",
              "  <tbody>\n",
              "    <tr>\n",
              "      <th>333</th>\n",
              "      <td>clearing</td>\n",
              "      <td>0.000027</td>\n",
              "      <td>0.857143</td>\n",
              "    </tr>\n",
              "    <tr>\n",
              "      <th>12403</th>\n",
              "      <td>clearings</td>\n",
              "      <td>0.000004</td>\n",
              "      <td>0.750000</td>\n",
              "    </tr>\n",
              "    <tr>\n",
              "      <th>5064</th>\n",
              "      <td>bearing</td>\n",
              "      <td>0.000112</td>\n",
              "      <td>0.714286</td>\n",
              "    </tr>\n",
              "    <tr>\n",
              "      <th>2498</th>\n",
              "      <td>hearing</td>\n",
              "      <td>0.000058</td>\n",
              "      <td>0.714286</td>\n",
              "    </tr>\n",
              "    <tr>\n",
              "      <th>4862</th>\n",
              "      <td>rearing</td>\n",
              "      <td>0.000022</td>\n",
              "      <td>0.714286</td>\n",
              "    </tr>\n",
              "  </tbody>\n",
              "</table>\n",
              "</div>\n",
              "      <button class=\"colab-df-convert\" onclick=\"convertToInteractive('df-a06c94e9-46eb-4d79-bd9c-2875a60d7d99')\"\n",
              "              title=\"Convert this dataframe to an interactive table.\"\n",
              "              style=\"display:none;\">\n",
              "        \n",
              "  <svg xmlns=\"http://www.w3.org/2000/svg\" height=\"24px\"viewBox=\"0 0 24 24\"\n",
              "       width=\"24px\">\n",
              "    <path d=\"M0 0h24v24H0V0z\" fill=\"none\"/>\n",
              "    <path d=\"M18.56 5.44l.94 2.06.94-2.06 2.06-.94-2.06-.94-.94-2.06-.94 2.06-2.06.94zm-11 1L8.5 8.5l.94-2.06 2.06-.94-2.06-.94L8.5 2.5l-.94 2.06-2.06.94zm10 10l.94 2.06.94-2.06 2.06-.94-2.06-.94-.94-2.06-.94 2.06-2.06.94z\"/><path d=\"M17.41 7.96l-1.37-1.37c-.4-.4-.92-.59-1.43-.59-.52 0-1.04.2-1.43.59L10.3 9.45l-7.72 7.72c-.78.78-.78 2.05 0 2.83L4 21.41c.39.39.9.59 1.41.59.51 0 1.02-.2 1.41-.59l7.78-7.78 2.81-2.81c.8-.78.8-2.07 0-2.86zM5.41 20L4 18.59l7.72-7.72 1.47 1.35L5.41 20z\"/>\n",
              "  </svg>\n",
              "      </button>\n",
              "      \n",
              "  <style>\n",
              "    .colab-df-container {\n",
              "      display:flex;\n",
              "      flex-wrap:wrap;\n",
              "      gap: 12px;\n",
              "    }\n",
              "\n",
              "    .colab-df-convert {\n",
              "      background-color: #E8F0FE;\n",
              "      border: none;\n",
              "      border-radius: 50%;\n",
              "      cursor: pointer;\n",
              "      display: none;\n",
              "      fill: #1967D2;\n",
              "      height: 32px;\n",
              "      padding: 0 0 0 0;\n",
              "      width: 32px;\n",
              "    }\n",
              "\n",
              "    .colab-df-convert:hover {\n",
              "      background-color: #E2EBFA;\n",
              "      box-shadow: 0px 1px 2px rgba(60, 64, 67, 0.3), 0px 1px 3px 1px rgba(60, 64, 67, 0.15);\n",
              "      fill: #174EA6;\n",
              "    }\n",
              "\n",
              "    [theme=dark] .colab-df-convert {\n",
              "      background-color: #3B4455;\n",
              "      fill: #D2E3FC;\n",
              "    }\n",
              "\n",
              "    [theme=dark] .colab-df-convert:hover {\n",
              "      background-color: #434B5C;\n",
              "      box-shadow: 0px 1px 3px 1px rgba(0, 0, 0, 0.15);\n",
              "      filter: drop-shadow(0px 1px 2px rgba(0, 0, 0, 0.3));\n",
              "      fill: #FFFFFF;\n",
              "    }\n",
              "  </style>\n",
              "\n",
              "      <script>\n",
              "        const buttonEl =\n",
              "          document.querySelector('#df-a06c94e9-46eb-4d79-bd9c-2875a60d7d99 button.colab-df-convert');\n",
              "        buttonEl.style.display =\n",
              "          google.colab.kernel.accessAllowed ? 'block' : 'none';\n",
              "\n",
              "        async function convertToInteractive(key) {\n",
              "          const element = document.querySelector('#df-a06c94e9-46eb-4d79-bd9c-2875a60d7d99');\n",
              "          const dataTable =\n",
              "            await google.colab.kernel.invokeFunction('convertToInteractive',\n",
              "                                                     [key], {});\n",
              "          if (!dataTable) return;\n",
              "\n",
              "          const docLinkHtml = 'Like what you see? Visit the ' +\n",
              "            '<a target=\"_blank\" href=https://colab.research.google.com/notebooks/data_table.ipynb>data table notebook</a>'\n",
              "            + ' to learn more about interactive tables.';\n",
              "          element.innerHTML = '';\n",
              "          dataTable['output_type'] = 'display_data';\n",
              "          await google.colab.output.renderOutput(dataTable, element);\n",
              "          const docLink = document.createElement('div');\n",
              "          docLink.innerHTML = docLinkHtml;\n",
              "          element.appendChild(docLink);\n",
              "        }\n",
              "      </script>\n",
              "    </div>\n",
              "  </div>\n",
              "  "
            ]
          },
          "metadata": {},
          "execution_count": 16
        }
      ]
    },
    {
      "cell_type": "markdown",
      "source": [
        "## Summary\n",
        "As we took words from a book the same way their are some words already present in the vocabulary of the smartphone and some words it records while the user starts using the keyboard."
      ],
      "metadata": {
        "id": "02cXP-egDceR"
      }
    }
  ]
}